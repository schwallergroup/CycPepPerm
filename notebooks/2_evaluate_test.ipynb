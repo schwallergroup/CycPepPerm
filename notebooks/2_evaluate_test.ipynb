{
 "cells": [
  {
   "cell_type": "markdown",
   "metadata": {},
   "source": [
    "# Evaluate test data\n",
    "This notebook showcases a simple approach to get predictions on test data and in order to do some useful evaluations."
   ]
  },
  {
   "cell_type": "markdown",
   "metadata": {},
   "source": [
    "### Housekeeping"
   ]
  },
  {
   "cell_type": "code",
   "execution_count": null,
   "metadata": {},
   "outputs": [],
   "source": [
    "import os\n",
    "from cyc_pep_perm.data.paths import (\n",
    "    DATA_PATH,\n",
    "    TRAIN_RANDOM_MORDRED,\n",
    "    MODEL_RF_RANDOM_DW,\n",
    "    MODEL_RF_RANDOM_MORDRED,\n",
    "    MODEL_XGB_RANDOM_DW,\n",
    "    MODEL_XGB_RANDOM_MORDRED)"
   ]
  },
  {
   "cell_type": "markdown",
   "metadata": {},
   "source": [
    "## Predict test permeability\n",
    "\n",
    "We do everything with Random Forest and DataWarrior descriptors. Please change the inputs with the desired paths accordingly."
   ]
  },
  {
   "cell_type": "code",
   "execution_count": null,
   "metadata": {},
   "outputs": [],
   "source": [
    "from cyc_pep_perm.models.randomforest import RF\n",
    "\n",
    "# instantiate class\n",
    "rf_regressor = RF()\n",
    "\n",
    "# load trained model\n",
    "model = rf_regressor.load(MODEL_RF_RANDOM_DW)"
   ]
  },
  {
   "cell_type": "markdown",
   "metadata": {},
   "source": [
    "Please also preprocess the test data first too. The target column does not need to be provided (but can be)."
   ]
  },
  {
   "cell_type": "code",
   "execution_count": null,
   "metadata": {},
   "outputs": [],
   "source": [
    "# XXX change to correct test path\n",
    "test_path = os.path.join(\n",
    "    DATA_PATH,\n",
    "    'Cyclic_peptide_membrane_permeability_random80percent.csv')\n",
    "\n",
    "y_pred, rmse, r2 = rf_regressor.test(test_path)\n",
    "print(f'Test RMSE = {rmse%0.2f}')\n",
    "print(f'Test R2 = {r2%0.2f}')"
   ]
  },
  {
   "cell_type": "markdown",
   "metadata": {},
   "source": [
    "## Plots"
   ]
  },
  {
   "cell_type": "code",
   "execution_count": null,
   "metadata": {},
   "outputs": [],
   "source": [
    "# plot predictions\n",
    "import matplotlib.pyplot as plt\n",
    "\n",
    "y_true = rf_regressor.y_test\n",
    "\n",
    "plt.scatter(y_true, y_pred, color='r')\n",
    "plt.xlabel('True permeability [%]')\n",
    "plt.ylabel('Predicted permeability [%]')\n",
    "# plot rme and r2\n",
    "plt.text(0.05, 0.9, 'RMSE = %0.2f' % rmse, ha='left', va='center', transform=plt.gca().transAxes)\n",
    "plt.text(0.05, 0.85, 'R2 = %0.2f' % r2, ha='left', va='center', transform=plt.gca().transAxes)"
   ]
  },
  {
   "cell_type": "code",
   "execution_count": null,
   "metadata": {},
   "outputs": [],
   "source": [
    "# this plot tells you the contribution of different features to the prediction\n",
    "shap_values = rf_regressor.shap_explain(rf_regressor.X_test)"
   ]
  }
 ],
 "metadata": {
  "language_info": {
   "name": "python"
  }
 },
 "nbformat": 4,
 "nbformat_minor": 2
}
