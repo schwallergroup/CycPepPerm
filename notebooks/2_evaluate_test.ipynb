{
 "cells": [
  {
   "cell_type": "markdown",
   "metadata": {},
   "source": [
    "# Evaluate test data\n",
    "This notebook showcases a simple approach to get predictions on test data and in order to do some useful evaluations."
   ]
  },
  {
   "cell_type": "markdown",
   "metadata": {},
   "source": [
    "### Housekeeping"
   ]
  },
  {
   "cell_type": "code",
   "execution_count": 1,
   "metadata": {},
   "outputs": [],
   "source": [
    "import os\n",
    "\n",
    "import pandas as pd\n",
    "\n",
    "from cyc_pep_perm.data.paths import (\n",
    "    DATA_PATH,\n",
    "    MODEL_RF_RANDOM_DW,\n",
    "    MODEL_RF_RANDOM_MORDRED,\n",
    "    MODEL_XGB_RANDOM_DW,\n",
    "    MODEL_XGB_RANDOM_MORDRED,\n",
    "    TRAIN_RANDOM_MORDRED,\n",
    ")"
   ]
  },
  {
   "cell_type": "markdown",
   "metadata": {},
   "source": [
    "## Predict test permeability\n",
    "\n",
    "We do everything with Random Forest and DataWarrior descriptors. Please change the inputs with the desired paths accordingly."
   ]
  },
  {
   "cell_type": "code",
   "execution_count": 19,
   "metadata": {},
   "outputs": [],
   "source": [
    "from cyc_pep_perm.models.randomforest import RF\n",
    "\n",
    "# instantiate class\n",
    "rf_regressor = RF()\n",
    "\n",
    "# load trained model\n",
    "model = rf_regressor.load(MODEL_RF_RANDOM_DW)"
   ]
  },
  {
   "cell_type": "markdown",
   "metadata": {},
   "source": [
    "Please also preprocess the test data first too. The target column does not need to be provided (but can be)."
   ]
  },
  {
   "cell_type": "markdown",
   "metadata": {},
   "source": [
    "### Predict only (no labels)"
   ]
  },
  {
   "cell_type": "code",
   "execution_count": 20,
   "metadata": {},
   "outputs": [],
   "source": [
    "test_path = os.path.join(DATA_PATH, \"perm_random20_test_dw.csv\")\n",
    "\n",
    "df = pd.read_csv(test_path)\n",
    "X = df.drop([\"SMILES\"], axis=1)\n",
    "\n",
    "# predict only\n",
    "y_pred = rf_regressor.predict(X)"
   ]
  },
  {
   "cell_type": "markdown",
   "metadata": {},
   "source": [
    "### Predict and evaluate (with labels)"
   ]
  },
  {
   "cell_type": "code",
   "execution_count": null,
   "metadata": {},
   "outputs": [],
   "source": [
    "test_path = os.path.join(\n",
    "    DATA_PATH,\n",
    "    'perm_random20_test_dw_labels.csv')\n",
    "\n",
    "y_pred, rmse, r2 = rf_regressor.test(test_path)\n",
    "print(f'Test RMSE = {rmse%0.2f}')\n",
    "print(f'Test R2 = {r2%0.2f}')"
   ]
  },
  {
   "cell_type": "markdown",
   "metadata": {},
   "source": [
    "## Plots"
   ]
  },
  {
   "cell_type": "code",
   "execution_count": null,
   "metadata": {},
   "outputs": [],
   "source": [
    "# plot predictions\n",
    "import matplotlib.pyplot as plt\n",
    "\n",
    "y_true = rf_regressor.y_test\n",
    "\n",
    "plt.scatter(y_true, y_pred, color=\"r\")\n",
    "plt.xlabel(\"True permeability [%]\")\n",
    "plt.ylabel(\"Predicted permeability [%]\")\n",
    "# plot rme and r2\n",
    "plt.text(0.05, 0.9, \"RMSE = %0.2f\" % rmse, ha=\"left\", va=\"center\", transform=plt.gca().transAxes)\n",
    "plt.text(0.05, 0.85, \"R2 = %0.2f\" % r2, ha=\"left\", va=\"center\", transform=plt.gca().transAxes)"
   ]
  },
  {
   "cell_type": "code",
   "execution_count": null,
   "metadata": {},
   "outputs": [],
   "source": [
    "# this plot tells you the contribution of different features to the prediction\n",
    "shap_values = rf_regressor.shap_explain(rf_regressor.X_test)"
   ]
  }
 ],
 "metadata": {
  "kernelspec": {
   "display_name": "cyc-pep-perm",
   "language": "python",
   "name": "python3"
  },
  "language_info": {
   "codemirror_mode": {
    "name": "ipython",
    "version": 3
   },
   "file_extension": ".py",
   "mimetype": "text/x-python",
   "name": "python",
   "nbconvert_exporter": "python",
   "pygments_lexer": "ipython3",
   "version": "3.10.13"
  }
 },
 "nbformat": 4,
 "nbformat_minor": 2
}
