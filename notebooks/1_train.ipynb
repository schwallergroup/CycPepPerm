{
 "cells": [
  {
   "cell_type": "markdown",
   "metadata": {},
   "source": [
    "# Training\n",
    "This notebook goes through the steps to train tree-based models using 8-fold cross-validation and evaluate the performance on the training data.\n",
    "\n",
    "Make sure you have ***preprocessed the data first*** so that the inputs fit seemlessly with the model classes. Preprocessing is explained in ```0_process_data.ipynb```. Since these models are tree-based scaling the data is not necessary.\n",
    "\n",
    "You need to exchange the paths to your own data for training. The pre-defined paths will only work if you install through GitHub and use the code in development settings (`pip install -e .`). If you install the python package (`pip install CycPepPerm`) the paths will point to the installed package directory."
   ]
  },
  {
   "cell_type": "markdown",
   "metadata": {},
   "source": [
    "### Housekeeping"
   ]
  },
  {
   "cell_type": "code",
   "execution_count": 1,
   "metadata": {},
   "outputs": [],
   "source": [
    "from pathlib import Path\n",
    "\n",
    "ROOT_PATH = Path.cwd().parent\n",
    "DATA_PATH = ROOT_PATH / 'data'\n",
    "TRAIN_RANDOM_DW = DATA_PATH / 'perm_random80_train_dw.csv'\n",
    "TRAIN_RANDOM_MORDRED = DATA_PATH / 'perm_random80_train_mordred.csv'\n",
    "MODEL_PATH = ROOT_PATH / 'models'"
   ]
  },
  {
   "cell_type": "markdown",
   "metadata": {},
   "source": [
    "## Random Forest"
   ]
  },
  {
   "cell_type": "markdown",
   "metadata": {},
   "source": [
    "### Train model\n",
    "The example is carried out with the provided descriptors from DataWarrior. If one wants to train and evaluate the model with mordred descriptors the code is the same, just change the paths to the input data (provided above in Housekeeping, too)."
   ]
  },
  {
   "cell_type": "code",
   "execution_count": null,
   "metadata": {},
   "outputs": [],
   "source": [
    "from cyc_pep_perm.models.randomforest import RF\n",
    "\n",
    "# instantiate class\n",
    "rf_regressor = RF()\n",
    "\n",
    "# traing a model using cross-validation\n",
    "# XXX: this will take some time especially if not on a GPU\n",
    "# and if you use all the default hyperparameters defined in the script to search over\n",
    "\n",
    "# TODO define where to save the model to\n",
    "savepath = MODEL_PATH / 'rf_best8cv_datawarrior_random.pkl'\n",
    "\n",
    "# TODO: exchange TRAIN_RANDOM_DW with your own path!\n",
    "model = rf_regressor.train(datapath=TRAIN_RANDOM_DW, savepath=savepath)"
   ]
  },
  {
   "cell_type": "code",
   "execution_count": null,
   "metadata": {},
   "outputs": [],
   "source": [
    "# get predictions on the training data\n",
    "y_pred, rmse, r2 = rf_regressor.evaluate()\n",
    "print(f\"Training RMSE = {rmse:0.2f}\")\n",
    "print(f\"Training R2 = {r2:0.2f}\")"
   ]
  },
  {
   "cell_type": "markdown",
   "metadata": {},
   "source": [
    "### Plot results"
   ]
  },
  {
   "cell_type": "code",
   "execution_count": null,
   "metadata": {},
   "outputs": [],
   "source": [
    "# plot predictions\n",
    "import matplotlib.pyplot as plt\n",
    "\n",
    "y_true = rf_regressor.y\n",
    "\n",
    "plt.scatter(y_true, y_pred, color=\"r\")\n",
    "plt.xlabel(\"True permeability [%]\")\n",
    "plt.ylabel(\"Predicted permeability [%]\")\n",
    "# plot rme and r2\n",
    "plt.text(\n",
    "    0.05,\n",
    "    0.9,\n",
    "    \"RMSE = %0.2f\" % rmse,\n",
    "    ha=\"left\",\n",
    "    va=\"center\",\n",
    "    transform=plt.gca().transAxes,\n",
    ")\n",
    "plt.text(0.05, 0.85, \"R2 = %0.2f\" % r2, ha=\"left\", va=\"center\", transform=plt.gca().transAxes)"
   ]
  },
  {
   "cell_type": "code",
   "execution_count": null,
   "metadata": {},
   "outputs": [],
   "source": [
    "# this plot tells you the contribution of different features to the prediction\n",
    "shap_values = rf_regressor.shap_explain(rf_regressor.X)"
   ]
  },
  {
   "cell_type": "markdown",
   "metadata": {},
   "source": [
    "## XGBoost"
   ]
  },
  {
   "cell_type": "markdown",
   "metadata": {},
   "source": [
    "### Train model\n",
    "The example is carried out with the provided descriptors from DataWarrior. If one wants to train and evaluate the model with mordred descriptors the code is the same, just change the paths to the input data (provded above in Housekeeping, too)."
   ]
  },
  {
   "cell_type": "code",
   "execution_count": null,
   "metadata": {},
   "outputs": [],
   "source": [
    "from cyc_pep_perm.models.xgboost import XGB\n",
    "\n",
    "# instantiate class\n",
    "xgb_regressor = XGB()\n",
    "\n",
    "# traing a model using cross-validation\n",
    "# XXX: this will take some time especially if not on a GPU\n",
    "# and if you use all the default hyperparameters defined in the script to search over\n",
    "\n",
    "# TODO define where to save the model to\n",
    "savepath = MODEL_PATH / 'xgb_best8cv_datawarrior_random.pkl'\n",
    "\n",
    "# TODO: exchange TRAIN_RANDOM_DW with your own path!\n",
    "model = xgb_regressor.train(datapath=TRAIN_RANDOM_DW, savepath=savepath)"
   ]
  },
  {
   "cell_type": "code",
   "execution_count": null,
   "metadata": {},
   "outputs": [],
   "source": [
    "# get predictions on the training data\n",
    "y_pred, rmse, r2 = xgb_regressor.evaluate()\n",
    "print(f\"Training RMSE = {rmse:0.2f}\")\n",
    "print(f\"Training R2 = {r2:0.2f}\")"
   ]
  },
  {
   "cell_type": "markdown",
   "metadata": {},
   "source": [
    "### Plot results"
   ]
  },
  {
   "cell_type": "code",
   "execution_count": null,
   "metadata": {},
   "outputs": [],
   "source": [
    "# plot predictions\n",
    "import matplotlib.pyplot as plt\n",
    "\n",
    "y_true = xgb_regressor.y\n",
    "\n",
    "plt.scatter(y_true, y_pred, color=\"r\")\n",
    "plt.xlabel(\"True permeability [%]\")\n",
    "plt.ylabel(\"Predicted permeability [%]\")\n",
    "# plot rme and r2\n",
    "plt.text(\n",
    "    0.05,\n",
    "    0.9,\n",
    "    \"RMSE = %0.2f\" % rmse,\n",
    "    ha=\"left\",\n",
    "    va=\"center\",\n",
    "    transform=plt.gca().transAxes,\n",
    ")\n",
    "plt.text(0.05, 0.85, \"R2 = %0.2f\" % r2, ha=\"left\", va=\"center\", transform=plt.gca().transAxes)"
   ]
  },
  {
   "cell_type": "code",
   "execution_count": null,
   "metadata": {},
   "outputs": [],
   "source": [
    "# this plot tells you the contribution of different features to the prediction\n",
    "shap_values = xgb_regressor.shap_explain(xgb_regressor.X)"
   ]
  }
 ],
 "metadata": {
  "kernelspec": {
   "display_name": "cyc-pep-perm",
   "language": "python",
   "name": "python3"
  },
  "language_info": {
   "codemirror_mode": {
    "name": "ipython",
    "version": 3
   },
   "file_extension": ".py",
   "mimetype": "text/x-python",
   "name": "python",
   "nbconvert_exporter": "python",
   "pygments_lexer": "ipython3",
   "version": "3.10.14"
  }
 },
 "nbformat": 4,
 "nbformat_minor": 2
}
