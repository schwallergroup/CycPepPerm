{
 "cells": [
  {
   "cell_type": "markdown",
   "metadata": {},
   "source": [
    "# Data preprocessing"
   ]
  },
  {
   "cell_type": "markdown",
   "metadata": {},
   "source": [
    "This notebook shows the steps necessary to get data that can be used as input to the models. This mainly includes some formatting for the DataWarrior descriptors. Furthermore, Mordred descriptors can be calculated and filtered so that always the same set of descriptors are used also later on."
   ]
  },
  {
   "cell_type": "markdown",
   "metadata": {},
   "source": [
    "### Housekeeping"
   ]
  },
  {
   "cell_type": "code",
   "execution_count": null,
   "metadata": {},
   "outputs": [],
   "source": [
    "import os\n",
    "from cyc_pep_perm.data.paths import DATA_PATH, TRAIN_RANDOM_DW, TRAIN_RANDOM_MORDRED"
   ]
  },
  {
   "cell_type": "markdown",
   "metadata": {},
   "source": [
    "## DataWarrior descriptor processing\n",
    "This merely formats the provided ```.ods``` file. The defaults in this script assume that the input data is put in the ```cyc_pep_perm/data``` folder. Adapt accordingly if that is not the case."
   ]
  },
  {
   "cell_type": "code",
   "execution_count": null,
   "metadata": {},
   "outputs": [],
   "source": [
    "from cyc_pep_perm.data.processing import DataProcessing\n",
    "\n",
    "datapath = os.path.join(DAATA_PATH, 'Cyclic_peptide_membrane_permeability_random80percent.ods')\n",
    "\n",
    "# instantiate the class and make sure the columns match your inputed file - otherwise change arguments\n",
    "dp = DataProcessing()"
   ]
  },
  {
   "cell_type": "code",
   "execution_count": null,
   "metadata": {},
   "outputs": [],
   "source": [
    "df_dw = dp.read_data()\n",
    "df_dw.head()"
   ]
  },
  {
   "cell_type": "markdown",
   "metadata": {},
   "source": [
    "## Mordred descriptors\n",
    "Calculates Mordred descriptors, which is an extensive set of molecular 2D properties. This takes some time."
   ]
  },
  {
   "cell_type": "code",
   "execution_count": null,
   "metadata": {},
   "outputs": [],
   "source": [
    "df_mordred = dp.calc_mordred()\n",
    "df_mordred.head()"
   ]
  },
  {
   "cell_type": "markdown",
   "metadata": {},
   "source": [
    "## Scaling data"
   ]
  },
  {
   "cell_type": "markdown",
   "metadata": {},
   "source": [
    "Not needed yet since only tree-based models considered."
   ]
  },
  {
   "cell_type": "markdown",
   "metadata": {},
   "source": []
  }
 ],
 "metadata": {
  "language_info": {
   "name": "python"
  }
 },
 "nbformat": 4,
 "nbformat_minor": 2
}
