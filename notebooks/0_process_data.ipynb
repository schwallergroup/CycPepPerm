{
 "cells": [
  {
   "cell_type": "markdown",
   "metadata": {},
   "source": [
    "# Data preprocessing"
   ]
  },
  {
   "cell_type": "markdown",
   "metadata": {},
   "source": [
    "This notebook shows the steps necessary to get data that can be used as input to the models. This mainly includes some formatting for the DataWarrior descriptors. Furthermore, Mordred descriptors can be calculated and filtered so that always the same set of descriptors are used also later on."
   ]
  },
  {
   "cell_type": "markdown",
   "metadata": {},
   "source": [
    "### Housekeeping"
   ]
  },
  {
   "cell_type": "code",
   "execution_count": 1,
   "metadata": {},
   "outputs": [],
   "source": [
    "import os\n",
    "\n",
    "from cyc_pep_perm.data.paths import DATA_PATH, TRAIN_RANDOM_DW, TRAIN_RANDOM_MORDRED"
   ]
  },
  {
   "cell_type": "markdown",
   "metadata": {},
   "source": [
    "## DataWarrior descriptor processing\n",
    "This merely formats the provided ```.ods``` file. The defaults in this script assume that the input data is put in the ```cyc_pep_perm/data``` folder. Adapt accordingly if that is not the case."
   ]
  },
  {
   "cell_type": "code",
   "execution_count": 2,
   "metadata": {},
   "outputs": [
    {
     "name": "stdout",
     "output_type": "stream",
     "text": [
      "Target column: CAPA [1 µM]\n",
      "SMILES column: SMILES\n"
     ]
    }
   ],
   "source": [
    "from cyc_pep_perm.data.processing import DataProcessing\n",
    "\n",
    "datapath = os.path.join(DATA_PATH, \"perm_random80_train_raw.ods\")\n",
    "\n",
    "# instantiate the class and make sure the columns match your inputed file - otherwise change arguments\n",
    "dp = DataProcessing(datapath=datapath)"
   ]
  },
  {
   "cell_type": "code",
   "execution_count": 3,
   "metadata": {},
   "outputs": [
    {
     "name": "stdout",
     "output_type": "stream",
     "text": [
      "Saved data to /home/rebecca/code/CycPepPerm/data/perm_random80_train_datawarrior.csv\n"
     ]
    },
    {
     "data": {
      "text/html": [
       "<div>\n",
       "<style scoped>\n",
       "    .dataframe tbody tr th:only-of-type {\n",
       "        vertical-align: middle;\n",
       "    }\n",
       "\n",
       "    .dataframe tbody tr th {\n",
       "        vertical-align: top;\n",
       "    }\n",
       "\n",
       "    .dataframe thead th {\n",
       "        text-align: right;\n",
       "    }\n",
       "</style>\n",
       "<table border=\"1\" class=\"dataframe\">\n",
       "  <thead>\n",
       "    <tr style=\"text-align: right;\">\n",
       "      <th></th>\n",
       "      <th>SMILES</th>\n",
       "      <th>target</th>\n",
       "      <th>MW</th>\n",
       "      <th>cLogP</th>\n",
       "      <th>cLogS</th>\n",
       "      <th>HBA</th>\n",
       "      <th>HBD</th>\n",
       "      <th>Total Surface Area</th>\n",
       "      <th>Rel. PSA</th>\n",
       "      <th>PSA</th>\n",
       "      <th>Rot. Bonds</th>\n",
       "      <th>Amides</th>\n",
       "    </tr>\n",
       "  </thead>\n",
       "  <tbody>\n",
       "    <tr>\n",
       "      <th>0</th>\n",
       "      <td>CC(C)[C@@H](C(NCCSCc1cccc(CSCCC(N[C@@H](CC(NCC...</td>\n",
       "      <td>41.206682</td>\n",
       "      <td>821.50</td>\n",
       "      <td>3.0452</td>\n",
       "      <td>-6.508</td>\n",
       "      <td>13.0</td>\n",
       "      <td>5.0</td>\n",
       "      <td>644.43</td>\n",
       "      <td>0.29243</td>\n",
       "      <td>227.45</td>\n",
       "      <td>15.0</td>\n",
       "      <td>5.0</td>\n",
       "    </tr>\n",
       "    <tr>\n",
       "      <th>1</th>\n",
       "      <td>O=C(C[C@@H](C(N[C@H](CCCC1)[C@@H]1C(N(CCC1)C[C...</td>\n",
       "      <td>39.747970</td>\n",
       "      <td>825.53</td>\n",
       "      <td>2.9212</td>\n",
       "      <td>-6.027</td>\n",
       "      <td>13.0</td>\n",
       "      <td>4.0</td>\n",
       "      <td>640.81</td>\n",
       "      <td>0.28174</td>\n",
       "      <td>218.66</td>\n",
       "      <td>14.0</td>\n",
       "      <td>5.0</td>\n",
       "    </tr>\n",
       "    <tr>\n",
       "      <th>2</th>\n",
       "      <td>O=C(C[C@@H](C(NCC(NC(CC1)CCC1CC(NCCSCc1cccc(CS...</td>\n",
       "      <td>24.527463</td>\n",
       "      <td>785.47</td>\n",
       "      <td>2.1131</td>\n",
       "      <td>-5.843</td>\n",
       "      <td>13.0</td>\n",
       "      <td>5.0</td>\n",
       "      <td>615.45</td>\n",
       "      <td>0.30620</td>\n",
       "      <td>227.45</td>\n",
       "      <td>14.0</td>\n",
       "      <td>5.0</td>\n",
       "    </tr>\n",
       "    <tr>\n",
       "      <th>3</th>\n",
       "      <td>OC[C@@H](C(NCCSCc1cccc(CSCCC(N[C@@H](CC(NCCOCC...</td>\n",
       "      <td>13.128625</td>\n",
       "      <td>813.44</td>\n",
       "      <td>-0.3120</td>\n",
       "      <td>-4.362</td>\n",
       "      <td>16.0</td>\n",
       "      <td>7.0</td>\n",
       "      <td>628.35</td>\n",
       "      <td>0.36048</td>\n",
       "      <td>276.36</td>\n",
       "      <td>17.0</td>\n",
       "      <td>5.0</td>\n",
       "    </tr>\n",
       "    <tr>\n",
       "      <th>4</th>\n",
       "      <td>CC(C)[C@@H](C(NCCSCc1cccc(CSCCC(N[C@@H](CC(NCC...</td>\n",
       "      <td>86.647628</td>\n",
       "      <td>835.53</td>\n",
       "      <td>3.0732</td>\n",
       "      <td>-6.460</td>\n",
       "      <td>13.0</td>\n",
       "      <td>5.0</td>\n",
       "      <td>656.93</td>\n",
       "      <td>0.28686</td>\n",
       "      <td>227.45</td>\n",
       "      <td>17.0</td>\n",
       "      <td>5.0</td>\n",
       "    </tr>\n",
       "  </tbody>\n",
       "</table>\n",
       "</div>"
      ],
      "text/plain": [
       "                                              SMILES     target      MW  \\\n",
       "0  CC(C)[C@@H](C(NCCSCc1cccc(CSCCC(N[C@@H](CC(NCC...  41.206682  821.50   \n",
       "1  O=C(C[C@@H](C(N[C@H](CCCC1)[C@@H]1C(N(CCC1)C[C...  39.747970  825.53   \n",
       "2  O=C(C[C@@H](C(NCC(NC(CC1)CCC1CC(NCCSCc1cccc(CS...  24.527463  785.47   \n",
       "3  OC[C@@H](C(NCCSCc1cccc(CSCCC(N[C@@H](CC(NCCOCC...  13.128625  813.44   \n",
       "4  CC(C)[C@@H](C(NCCSCc1cccc(CSCCC(N[C@@H](CC(NCC...  86.647628  835.53   \n",
       "\n",
       "    cLogP  cLogS   HBA  HBD  Total Surface Area  Rel. PSA     PSA  Rot. Bonds  \\\n",
       "0  3.0452 -6.508  13.0  5.0              644.43   0.29243  227.45        15.0   \n",
       "1  2.9212 -6.027  13.0  4.0              640.81   0.28174  218.66        14.0   \n",
       "2  2.1131 -5.843  13.0  5.0              615.45   0.30620  227.45        14.0   \n",
       "3 -0.3120 -4.362  16.0  7.0              628.35   0.36048  276.36        17.0   \n",
       "4  3.0732 -6.460  13.0  5.0              656.93   0.28686  227.45        17.0   \n",
       "\n",
       "   Amides  \n",
       "0     5.0  \n",
       "1     5.0  \n",
       "2     5.0  \n",
       "3     5.0  \n",
       "4     5.0  "
      ]
     },
     "execution_count": 3,
     "metadata": {},
     "output_type": "execute_result"
    }
   ],
   "source": [
    "df_dw = dp.read_data(filename=\"perm_random80_train_dw.csv\")\n",
    "df_dw.head()"
   ]
  },
  {
   "cell_type": "markdown",
   "metadata": {},
   "source": [
    "## Mordred descriptors\n",
    "Calculates Mordred descriptors, which is an extensive set of molecular 2D properties. This takes some time."
   ]
  },
  {
   "cell_type": "code",
   "execution_count": 4,
   "metadata": {},
   "outputs": [
    {
     "name": "stderr",
     "output_type": "stream",
     "text": [
      "  3%|▎         | 1/29 [00:03<01:33,  3.35s/it]"
     ]
    },
    {
     "name": "stdout",
     "output_type": "stream",
     "text": [
      "/home/rebecca/.local/lib/python3.10/site-packages/numpy/core/fromnumeric.py:86: RuntimeWarning: overflow encountered in reduce\n",
      "  return ufunc.reduce(obj, axis, dtype, out, **passkwargs)\n"
     ]
    },
    {
     "name": "stderr",
     "output_type": "stream",
     "text": [
      " 24%|██▍       | 7/29 [00:04<00:07,  2.78it/s]"
     ]
    },
    {
     "name": "stdout",
     "output_type": "stream",
     "text": [
      "/home/rebecca/.local/lib/python3.10/site-packages/numpy/core/fromnumeric.py:86: RuntimeWarning: overflow encountered in reduce\n",
      "  return ufunc.reduce(obj, axis, dtype, out, **passkwargs)\n",
      "/home/rebecca/.local/lib/python3.10/site-packages/numpy/core/fromnumeric.py:86: RuntimeWarning: overflow encountered in reduce\n",
      "  return ufunc.reduce(obj, axis, dtype, out, **passkwargs)\n",
      "/home/rebecca/.local/lib/python3.10/site-packages/numpy/core/fromnumeric.py:86: RuntimeWarning: overflow encountered in reduce\n",
      "  return ufunc.reduce(obj, axis, dtype, out, **passkwargs)\n"
     ]
    },
    {
     "name": "stderr",
     "output_type": "stream",
     "text": [
      " 45%|████▍     | 13/29 [00:04<00:05,  3.19it/s]"
     ]
    },
    {
     "name": "stdout",
     "output_type": "stream",
     "text": [
      "/home/rebecca/.local/lib/python3.10/site-packages/numpy/core/fromnumeric.py:86: RuntimeWarning: overflow encountered in reduce\n",
      "  return ufunc.reduce(obj, axis, dtype, out, **passkwargs)\n",
      "/home/rebecca/.local/lib/python3.10/site-packages/numpy/core/fromnumeric.py:86: RuntimeWarning: overflow encountered in reduce\n",
      "  return ufunc.reduce(obj, axis, dtype, out, **passkwargs)\n",
      "/home/rebecca/.local/lib/python3.10/site-packages/numpy/core/fromnumeric.py:86: RuntimeWarning: overflow encountered in reduce\n",
      "  return ufunc.reduce(obj, axis, dtype, out, **passkwargs)\n",
      "/home/rebecca/.local/lib/python3.10/site-packages/numpy/core/fromnumeric.py:86: RuntimeWarning: overflow encountered in reduce\n",
      "  return ufunc.reduce(obj, axis, dtype, out, **passkwargs)\n"
     ]
    },
    {
     "name": "stderr",
     "output_type": "stream",
     "text": [
      " 76%|███████▌  | 22/29 [00:05<00:01,  5.58it/s]"
     ]
    },
    {
     "name": "stdout",
     "output_type": "stream",
     "text": [
      "/home/rebecca/.local/lib/python3.10/site-packages/numpy/core/fromnumeric.py:86: RuntimeWarning: overflow encountered in reduce\n",
      "  return ufunc.reduce(obj, axis, dtype, out, **passkwargs)\n",
      "/home/rebecca/.local/lib/python3.10/site-packages/numpy/core/fromnumeric.py:86: RuntimeWarning: overflow encountered in reduce\n",
      "  return ufunc.reduce(obj, axis, dtype, out, **passkwargs)\n",
      "/home/rebecca/.local/lib/python3.10/site-packages/numpy/core/fromnumeric.py:86: RuntimeWarning: overflow encountered in reduce\n",
      "  return ufunc.reduce(obj, axis, dtype, out, **passkwargs)\n",
      "/home/rebecca/.local/lib/python3.10/site-packages/numpy/core/fromnumeric.py:86: RuntimeWarning: overflow encountered in reduce\n",
      "  return ufunc.reduce(obj, axis, dtype, out, **passkwargs)\n",
      "/home/rebecca/.local/lib/python3.10/site-packages/numpy/core/fromnumeric.py:86: RuntimeWarning: overflow encountered in reduce\n",
      "  return ufunc.reduce(obj, axis, dtype, out, **passkwargs)\n",
      "/home/rebecca/.local/lib/python3.10/site-packages/numpy/core/fromnumeric.py:86: RuntimeWarning: overflow encountered in reduce\n",
      "  return ufunc.reduce(obj, axis, dtype, out, **passkwargs)\n",
      "/home/rebecca/.local/lib/python3.10/site-packages/numpy/core/fromnumeric.py:86: RuntimeWarning: overflow encountered in reduce\n",
      "  return ufunc.reduce(obj, axis, dtype, out, **passkwargs)\n"
     ]
    },
    {
     "name": "stderr",
     "output_type": "stream",
     "text": [
      " 93%|█████████▎| 27/29 [00:05<00:00, 10.17it/s]"
     ]
    },
    {
     "name": "stdout",
     "output_type": "stream",
     "text": [
      "/home/rebecca/.local/lib/python3.10/site-packages/numpy/core/fromnumeric.py:86: RuntimeWarning: overflow encountered in reduce\n",
      "  return ufunc.reduce(obj, axis, dtype, out, **passkwargs)\n"
     ]
    },
    {
     "name": "stderr",
     "output_type": "stream",
     "text": [
      "100%|██████████| 29/29 [00:07<00:00,  4.06it/s]\n"
     ]
    },
    {
     "name": "stdout",
     "output_type": "stream",
     "text": [
      "/home/rebecca/.local/lib/python3.10/site-packages/numpy/core/fromnumeric.py:86: RuntimeWarning: overflow encountered in reduce\n",
      "  return ufunc.reduce(obj, axis, dtype, out, **passkwargs)\n",
      "Saved Mordred descriptors to /home/rebecca/code/CycPepPerm/data/Cyclic_peptide_membrane_permeability_random20percent_mordred.csv\n"
     ]
    },
    {
     "data": {
      "text/html": [
       "<div>\n",
       "<style scoped>\n",
       "    .dataframe tbody tr th:only-of-type {\n",
       "        vertical-align: middle;\n",
       "    }\n",
       "\n",
       "    .dataframe tbody tr th {\n",
       "        vertical-align: top;\n",
       "    }\n",
       "\n",
       "    .dataframe thead th {\n",
       "        text-align: right;\n",
       "    }\n",
       "</style>\n",
       "<table border=\"1\" class=\"dataframe\">\n",
       "  <thead>\n",
       "    <tr style=\"text-align: right;\">\n",
       "      <th></th>\n",
       "      <th>SpAbs_A</th>\n",
       "      <th>SpMax_A</th>\n",
       "      <th>SpDiam_A</th>\n",
       "      <th>SpAD_A</th>\n",
       "      <th>SpMAD_A</th>\n",
       "      <th>LogEE_A</th>\n",
       "      <th>VE1_A</th>\n",
       "      <th>VE2_A</th>\n",
       "      <th>VE3_A</th>\n",
       "      <th>VR1_A</th>\n",
       "      <th>...</th>\n",
       "      <th>TSRW10</th>\n",
       "      <th>MW</th>\n",
       "      <th>AMW</th>\n",
       "      <th>WPath</th>\n",
       "      <th>WPol</th>\n",
       "      <th>Zagreb1</th>\n",
       "      <th>Zagreb2</th>\n",
       "      <th>mZagreb1</th>\n",
       "      <th>mZagreb2</th>\n",
       "      <th>SMILES</th>\n",
       "    </tr>\n",
       "  </thead>\n",
       "  <tbody>\n",
       "    <tr>\n",
       "      <th>0</th>\n",
       "      <td>70.524608</td>\n",
       "      <td>2.422422</td>\n",
       "      <td>4.844786</td>\n",
       "      <td>70.524608</td>\n",
       "      <td>1.259368</td>\n",
       "      <td>4.916128</td>\n",
       "      <td>4.450055</td>\n",
       "      <td>0.079465</td>\n",
       "      <td>3.215683</td>\n",
       "      <td>294078.399525</td>\n",
       "      <td>...</td>\n",
       "      <td>93.963407</td>\n",
       "      <td>834.321132</td>\n",
       "      <td>7.516407</td>\n",
       "      <td>15622</td>\n",
       "      <td>77</td>\n",
       "      <td>268.0</td>\n",
       "      <td>298.0</td>\n",
       "      <td>17.444444</td>\n",
       "      <td>12.861111</td>\n",
       "      <td>Oc1ccc(C[C@@H](C(N(C2)CC2C(NCCSCc2cccc(CSCCC(N...</td>\n",
       "    </tr>\n",
       "    <tr>\n",
       "      <th>1</th>\n",
       "      <td>77.805423</td>\n",
       "      <td>2.341892</td>\n",
       "      <td>4.683785</td>\n",
       "      <td>77.805423</td>\n",
       "      <td>1.275499</td>\n",
       "      <td>4.993370</td>\n",
       "      <td>5.637772</td>\n",
       "      <td>0.092422</td>\n",
       "      <td>3.537778</td>\n",
       "      <td>59440.079607</td>\n",
       "      <td>...</td>\n",
       "      <td>99.031578</td>\n",
       "      <td>898.352433</td>\n",
       "      <td>7.486270</td>\n",
       "      <td>18898</td>\n",
       "      <td>84</td>\n",
       "      <td>288.0</td>\n",
       "      <td>317.0</td>\n",
       "      <td>18.694444</td>\n",
       "      <td>14.083333</td>\n",
       "      <td>Oc1ccc(C[C@@H](C(NCCSCc2cccc(CSCCC(N[C@@H](CC(...</td>\n",
       "    </tr>\n",
       "    <tr>\n",
       "      <th>2</th>\n",
       "      <td>66.789727</td>\n",
       "      <td>2.324614</td>\n",
       "      <td>4.649229</td>\n",
       "      <td>66.789727</td>\n",
       "      <td>1.236847</td>\n",
       "      <td>4.853806</td>\n",
       "      <td>5.185249</td>\n",
       "      <td>0.096023</td>\n",
       "      <td>3.332217</td>\n",
       "      <td>40398.990677</td>\n",
       "      <td>...</td>\n",
       "      <td>91.135011</td>\n",
       "      <td>817.326946</td>\n",
       "      <td>7.430245</td>\n",
       "      <td>14195</td>\n",
       "      <td>73</td>\n",
       "      <td>246.0</td>\n",
       "      <td>267.0</td>\n",
       "      <td>19.333333</td>\n",
       "      <td>12.611111</td>\n",
       "      <td>C[C@H]([C@@H](C(NCCSCc1cccc(CSCCC(N[C@@H](CC(N...</td>\n",
       "    </tr>\n",
       "    <tr>\n",
       "      <th>3</th>\n",
       "      <td>69.641153</td>\n",
       "      <td>2.419902</td>\n",
       "      <td>4.839804</td>\n",
       "      <td>69.641153</td>\n",
       "      <td>1.289651</td>\n",
       "      <td>4.877440</td>\n",
       "      <td>4.732239</td>\n",
       "      <td>0.087634</td>\n",
       "      <td>3.240798</td>\n",
       "      <td>139525.694782</td>\n",
       "      <td>...</td>\n",
       "      <td>91.658732</td>\n",
       "      <td>810.357518</td>\n",
       "      <td>7.171305</td>\n",
       "      <td>14199</td>\n",
       "      <td>79</td>\n",
       "      <td>258.0</td>\n",
       "      <td>289.0</td>\n",
       "      <td>16.333333</td>\n",
       "      <td>12.500000</td>\n",
       "      <td>O=C(C[C@@H](C(N(CCCC1)[C@H]1C(N(CC1)CCC1C(NCCS...</td>\n",
       "    </tr>\n",
       "    <tr>\n",
       "      <th>4</th>\n",
       "      <td>63.265425</td>\n",
       "      <td>2.440843</td>\n",
       "      <td>4.881687</td>\n",
       "      <td>63.265425</td>\n",
       "      <td>1.240499</td>\n",
       "      <td>4.815109</td>\n",
       "      <td>4.080159</td>\n",
       "      <td>0.080003</td>\n",
       "      <td>3.035376</td>\n",
       "      <td>394066.337656</td>\n",
       "      <td>...</td>\n",
       "      <td>88.445591</td>\n",
       "      <td>770.326218</td>\n",
       "      <td>7.267228</td>\n",
       "      <td>12398</td>\n",
       "      <td>71</td>\n",
       "      <td>240.0</td>\n",
       "      <td>267.0</td>\n",
       "      <td>17.083333</td>\n",
       "      <td>11.833333</td>\n",
       "      <td>CC(C)[C@@H](C(N(CC1)[C@@H]1C(NCCSCc1cccc(CSCCC...</td>\n",
       "    </tr>\n",
       "  </tbody>\n",
       "</table>\n",
       "<p>5 rows × 1182 columns</p>\n",
       "</div>"
      ],
      "text/plain": [
       "     SpAbs_A   SpMax_A  SpDiam_A     SpAD_A   SpMAD_A   LogEE_A     VE1_A  \\\n",
       "0  70.524608  2.422422  4.844786  70.524608  1.259368  4.916128  4.450055   \n",
       "1  77.805423  2.341892  4.683785  77.805423  1.275499  4.993370  5.637772   \n",
       "2  66.789727  2.324614  4.649229  66.789727  1.236847  4.853806  5.185249   \n",
       "3  69.641153  2.419902  4.839804  69.641153  1.289651  4.877440  4.732239   \n",
       "4  63.265425  2.440843  4.881687  63.265425  1.240499  4.815109  4.080159   \n",
       "\n",
       "      VE2_A     VE3_A          VR1_A  ...     TSRW10          MW       AMW  \\\n",
       "0  0.079465  3.215683  294078.399525  ...  93.963407  834.321132  7.516407   \n",
       "1  0.092422  3.537778   59440.079607  ...  99.031578  898.352433  7.486270   \n",
       "2  0.096023  3.332217   40398.990677  ...  91.135011  817.326946  7.430245   \n",
       "3  0.087634  3.240798  139525.694782  ...  91.658732  810.357518  7.171305   \n",
       "4  0.080003  3.035376  394066.337656  ...  88.445591  770.326218  7.267228   \n",
       "\n",
       "   WPath  WPol  Zagreb1  Zagreb2   mZagreb1   mZagreb2  \\\n",
       "0  15622    77    268.0    298.0  17.444444  12.861111   \n",
       "1  18898    84    288.0    317.0  18.694444  14.083333   \n",
       "2  14195    73    246.0    267.0  19.333333  12.611111   \n",
       "3  14199    79    258.0    289.0  16.333333  12.500000   \n",
       "4  12398    71    240.0    267.0  17.083333  11.833333   \n",
       "\n",
       "                                              SMILES  \n",
       "0  Oc1ccc(C[C@@H](C(N(C2)CC2C(NCCSCc2cccc(CSCCC(N...  \n",
       "1  Oc1ccc(C[C@@H](C(NCCSCc2cccc(CSCCC(N[C@@H](CC(...  \n",
       "2  C[C@H]([C@@H](C(NCCSCc1cccc(CSCCC(N[C@@H](CC(N...  \n",
       "3  O=C(C[C@@H](C(N(CCCC1)[C@H]1C(N(CC1)CCC1C(NCCS...  \n",
       "4  CC(C)[C@@H](C(N(CC1)[C@@H]1C(NCCSCc1cccc(CSCCC...  \n",
       "\n",
       "[5 rows x 1182 columns]"
      ]
     },
     "execution_count": 4,
     "metadata": {},
     "output_type": "execute_result"
    }
   ],
   "source": [
    "df_mordred = dp.calc_mordred(filename=\"perm_random80_train_mordred.csv\")\n",
    "df_mordred.head()"
   ]
  },
  {
   "cell_type": "markdown",
   "metadata": {},
   "source": [
    "## Scaling data"
   ]
  },
  {
   "cell_type": "markdown",
   "metadata": {},
   "source": [
    "Not needed yet since only tree-based models considered."
   ]
  },
  {
   "cell_type": "markdown",
   "metadata": {},
   "source": []
  }
 ],
 "metadata": {
  "kernelspec": {
   "display_name": "cyc-pep-perm",
   "language": "python",
   "name": "python3"
  },
  "language_info": {
   "codemirror_mode": {
    "name": "ipython",
    "version": 3
   },
   "file_extension": ".py",
   "mimetype": "text/x-python",
   "name": "python",
   "nbconvert_exporter": "python",
   "pygments_lexer": "ipython3",
   "version": "3.10.13"
  }
 },
 "nbformat": 4,
 "nbformat_minor": 2
}
