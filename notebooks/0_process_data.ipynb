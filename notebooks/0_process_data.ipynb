{
 "cells": [
  {
   "cell_type": "markdown",
   "metadata": {},
   "source": [
    "# Data preprocessing"
   ]
  },
  {
   "cell_type": "markdown",
   "metadata": {},
   "source": [
    "This notebook shows the steps necessary to get data that can be used as input to the models. This mainly includes some formatting for the DataWarrior descriptors. Furthermore, Mordred descriptors can be calculated and filtered so that always the same set of descriptors are used also later on."
   ]
  },
  {
   "cell_type": "markdown",
   "metadata": {},
   "source": [
    "### Housekeeping"
   ]
  },
  {
   "cell_type": "code",
   "execution_count": 1,
   "metadata": {},
   "outputs": [],
   "source": [
    "from pathlib import Path\n",
    "\n",
    "ROOT_PATH = Path.cwd().parent\n",
    "DATA_PATH = ROOT_PATH / 'data'\n",
    "TRAIN_RANDOM_DW = DATA_PATH / 'perm_random80_train_dw.csv'\n",
    "TRAIN_RANDOM_MORDRED = DATA_PATH / 'perm_random80_train_mordred.csv'"
   ]
  },
  {
   "cell_type": "markdown",
   "metadata": {},
   "source": [
    "## DataWarrior descriptor processing\n",
    "This merely formats the provided ```.ods``` file. The defaults in this script assume that the input data is put in the ```cyc_pep_perm/data``` folder. Adapt accordingly if that is not the case."
   ]
  },
  {
   "cell_type": "code",
   "execution_count": null,
   "metadata": {},
   "outputs": [],
   "source": [
    "from cyc_pep_perm.data.processing import DataProcessing\n",
    "\n",
    "# TODO: CHANGE TO YOUR PATH!\n",
    "datapath = DATA_PATH / 'perm_random80_train_raw.ods'\n",
    "\n",
    "# instantiate the class and make sure the columns match your inputed file - otherwise change arguments\n",
    "dp = DataProcessing(datapath=datapath)"
   ]
  },
  {
   "cell_type": "code",
   "execution_count": null,
   "metadata": {},
   "outputs": [],
   "source": [
    "df_dw = dp.read_data(filename=\"perm_random80_train_dw.csv\")\n",
    "df_dw.head()"
   ]
  },
  {
   "cell_type": "markdown",
   "metadata": {},
   "source": [
    "## Mordred descriptors\n",
    "Calculates Mordred descriptors, which is an extensive set of molecular 2D properties. This takes some time."
   ]
  },
  {
   "cell_type": "code",
   "execution_count": null,
   "metadata": {},
   "outputs": [],
   "source": [
    "df_mordred = dp.calc_mordred(filename=\"perm_random80_train_mordred.csv\")\n",
    "df_mordred.head()"
   ]
  },
  {
   "cell_type": "markdown",
   "metadata": {},
   "source": [
    "## Scaling data"
   ]
  },
  {
   "cell_type": "markdown",
   "metadata": {},
   "source": [
    "Not needed yet since only tree-based models considered."
   ]
  },
  {
   "cell_type": "markdown",
   "metadata": {},
   "source": []
  }
 ],
 "metadata": {
  "kernelspec": {
   "display_name": "cyc-pep-perm",
   "language": "python",
   "name": "python3"
  },
  "language_info": {
   "codemirror_mode": {
    "name": "ipython",
    "version": 3
   },
   "file_extension": ".py",
   "mimetype": "text/x-python",
   "name": "python",
   "nbconvert_exporter": "python",
   "pygments_lexer": "ipython3",
   "version": "3.10.14"
  }
 },
 "nbformat": 4,
 "nbformat_minor": 2
}
